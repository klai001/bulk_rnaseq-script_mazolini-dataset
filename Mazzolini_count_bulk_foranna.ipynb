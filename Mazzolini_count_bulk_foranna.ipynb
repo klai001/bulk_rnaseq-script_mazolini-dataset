{
 "cells": [
  {
   "cell_type": "markdown",
   "id": "cbd5c9d0",
   "metadata": {},
   "source": [
    "**title: \"Bulk rnaseq_mazzolini_foranna (Analysis for my PhD supervisor)\"\n",
    "author: \"Lai, Kei Onn\n",
    "date: \"12/30/2022\"**\n",
    "\n",
    "dataset derived from count data of https://doi.org/10.1002/glia.23717\n",
    "provided by original authors of the paper. \n",
    "Here i mainly focus on performing an LRT instead of wald statistic test since it's a time series model"
   ]
  },
  {
   "cell_type": "markdown",
   "id": "8ba50e88",
   "metadata": {
    "lines_to_next_cell": 0
   },
   "source": [
    "read in the file; tab contains both metadata and count matrix"
   ]
  },
  {
   "cell_type": "code",
   "execution_count": 1,
   "id": "260bce55",
   "metadata": {
    "lines_to_next_cell": 0
   },
   "outputs": [],
   "source": [
    "setwd(\"C:/Users/Kei Onn/Downloads\")\n",
    "\n",
    ".libPaths(\"C:/Program Files/R/R-4.2.1/library\")\n"
   ]
  },
  {
   "cell_type": "code",
   "execution_count": 2,
   "id": "bcecf935",
   "metadata": {},
   "outputs": [
    {
     "data": {
      "text/html": [
       "<table class=\"dataframe\">\n",
       "<caption>A data.frame: 6 × 5</caption>\n",
       "<thead>\n",
       "\t<tr><th></th><th scope=col>sample</th><th scope=col>gene_id</th><th scope=col>count</th><th scope=col>gene_name</th><th scope=col>sample_group</th></tr>\n",
       "\t<tr><th></th><th scope=col>&lt;chr&gt;</th><th scope=col>&lt;chr&gt;</th><th scope=col>&lt;int&gt;</th><th scope=col>&lt;chr&gt;</th><th scope=col>&lt;chr&gt;</th></tr>\n",
       "</thead>\n",
       "<tbody>\n",
       "\t<tr><th scope=row>1</th><td>uz_hras_3dpf_16_5_17</td><td>ENSDARG00000000001</td><td>  10</td><td>slc35a5  </td><td>3dpf</td></tr>\n",
       "\t<tr><th scope=row>2</th><td>uz_hras_3dpf_16_5_17</td><td>ENSDARG00000000002</td><td>2964</td><td>ccdc80   </td><td>3dpf</td></tr>\n",
       "\t<tr><th scope=row>3</th><td>uz_hras_3dpf_16_5_17</td><td>ENSDARG00000000018</td><td> 194</td><td>nrf1     </td><td>3dpf</td></tr>\n",
       "\t<tr><th scope=row>4</th><td>uz_hras_3dpf_16_5_17</td><td>ENSDARG00000000019</td><td>2191</td><td>ube2h    </td><td>3dpf</td></tr>\n",
       "\t<tr><th scope=row>5</th><td>uz_hras_3dpf_16_5_17</td><td>ENSDARG00000000068</td><td>  68</td><td>slc9a3r1a</td><td>3dpf</td></tr>\n",
       "\t<tr><th scope=row>6</th><td>uz_hras_3dpf_16_5_17</td><td>ENSDARG00000000069</td><td> 548</td><td>dap      </td><td>3dpf</td></tr>\n",
       "</tbody>\n",
       "</table>\n"
      ],
      "text/latex": [
       "A data.frame: 6 × 5\n",
       "\\begin{tabular}{r|lllll}\n",
       "  & sample & gene\\_id & count & gene\\_name & sample\\_group\\\\\n",
       "  & <chr> & <chr> & <int> & <chr> & <chr>\\\\\n",
       "\\hline\n",
       "\t1 & uz\\_hras\\_3dpf\\_16\\_5\\_17 & ENSDARG00000000001 &   10 & slc35a5   & 3dpf\\\\\n",
       "\t2 & uz\\_hras\\_3dpf\\_16\\_5\\_17 & ENSDARG00000000002 & 2964 & ccdc80    & 3dpf\\\\\n",
       "\t3 & uz\\_hras\\_3dpf\\_16\\_5\\_17 & ENSDARG00000000018 &  194 & nrf1      & 3dpf\\\\\n",
       "\t4 & uz\\_hras\\_3dpf\\_16\\_5\\_17 & ENSDARG00000000019 & 2191 & ube2h     & 3dpf\\\\\n",
       "\t5 & uz\\_hras\\_3dpf\\_16\\_5\\_17 & ENSDARG00000000068 &   68 & slc9a3r1a & 3dpf\\\\\n",
       "\t6 & uz\\_hras\\_3dpf\\_16\\_5\\_17 & ENSDARG00000000069 &  548 & dap       & 3dpf\\\\\n",
       "\\end{tabular}\n"
      ],
      "text/markdown": [
       "\n",
       "A data.frame: 6 × 5\n",
       "\n",
       "| <!--/--> | sample &lt;chr&gt; | gene_id &lt;chr&gt; | count &lt;int&gt; | gene_name &lt;chr&gt; | sample_group &lt;chr&gt; |\n",
       "|---|---|---|---|---|---|\n",
       "| 1 | uz_hras_3dpf_16_5_17 | ENSDARG00000000001 |   10 | slc35a5   | 3dpf |\n",
       "| 2 | uz_hras_3dpf_16_5_17 | ENSDARG00000000002 | 2964 | ccdc80    | 3dpf |\n",
       "| 3 | uz_hras_3dpf_16_5_17 | ENSDARG00000000018 |  194 | nrf1      | 3dpf |\n",
       "| 4 | uz_hras_3dpf_16_5_17 | ENSDARG00000000019 | 2191 | ube2h     | 3dpf |\n",
       "| 5 | uz_hras_3dpf_16_5_17 | ENSDARG00000000068 |   68 | slc9a3r1a | 3dpf |\n",
       "| 6 | uz_hras_3dpf_16_5_17 | ENSDARG00000000069 |  548 | dap       | 3dpf |\n",
       "\n"
      ],
      "text/plain": [
       "  sample               gene_id            count gene_name sample_group\n",
       "1 uz_hras_3dpf_16_5_17 ENSDARG00000000001   10  slc35a5   3dpf        \n",
       "2 uz_hras_3dpf_16_5_17 ENSDARG00000000002 2964  ccdc80    3dpf        \n",
       "3 uz_hras_3dpf_16_5_17 ENSDARG00000000018  194  nrf1      3dpf        \n",
       "4 uz_hras_3dpf_16_5_17 ENSDARG00000000019 2191  ube2h     3dpf        \n",
       "5 uz_hras_3dpf_16_5_17 ENSDARG00000000068   68  slc9a3r1a 3dpf        \n",
       "6 uz_hras_3dpf_16_5_17 ENSDARG00000000069  548  dap       3dpf        "
      ]
     },
     "metadata": {},
     "output_type": "display_data"
    }
   ],
   "source": [
    "tab<-read.csv(\"count_bulk_ZF_Mazzolini.csv\")\n",
    "head(tab)"
   ]
  },
  {
   "cell_type": "markdown",
   "id": "aab04e33",
   "metadata": {},
   "source": [
    "Extract out the metadata and gene annotations"
   ]
  },
  {
   "cell_type": "code",
   "execution_count": 3,
   "id": "9041c9f6",
   "metadata": {},
   "outputs": [
    {
     "data": {
      "text/html": [
       "<table class=\"dataframe\">\n",
       "<caption>A data.frame: 6 × 2</caption>\n",
       "<thead>\n",
       "\t<tr><th></th><th scope=col>sample</th><th scope=col>sample_group</th></tr>\n",
       "\t<tr><th></th><th scope=col>&lt;chr&gt;</th><th scope=col>&lt;chr&gt;</th></tr>\n",
       "</thead>\n",
       "<tbody>\n",
       "\t<tr><th scope=row>1</th><td>uz_hras_3dpf_16_5_17</td><td>3dpf</td></tr>\n",
       "\t<tr><th scope=row>2</th><td>uz_hras_3dpf_16_5_17</td><td>3dpf</td></tr>\n",
       "\t<tr><th scope=row>3</th><td>uz_hras_3dpf_16_5_17</td><td>3dpf</td></tr>\n",
       "\t<tr><th scope=row>4</th><td>uz_hras_3dpf_16_5_17</td><td>3dpf</td></tr>\n",
       "\t<tr><th scope=row>5</th><td>uz_hras_3dpf_16_5_17</td><td>3dpf</td></tr>\n",
       "\t<tr><th scope=row>6</th><td>uz_hras_3dpf_16_5_17</td><td>3dpf</td></tr>\n",
       "</tbody>\n",
       "</table>\n"
      ],
      "text/latex": [
       "A data.frame: 6 × 2\n",
       "\\begin{tabular}{r|ll}\n",
       "  & sample & sample\\_group\\\\\n",
       "  & <chr> & <chr>\\\\\n",
       "\\hline\n",
       "\t1 & uz\\_hras\\_3dpf\\_16\\_5\\_17 & 3dpf\\\\\n",
       "\t2 & uz\\_hras\\_3dpf\\_16\\_5\\_17 & 3dpf\\\\\n",
       "\t3 & uz\\_hras\\_3dpf\\_16\\_5\\_17 & 3dpf\\\\\n",
       "\t4 & uz\\_hras\\_3dpf\\_16\\_5\\_17 & 3dpf\\\\\n",
       "\t5 & uz\\_hras\\_3dpf\\_16\\_5\\_17 & 3dpf\\\\\n",
       "\t6 & uz\\_hras\\_3dpf\\_16\\_5\\_17 & 3dpf\\\\\n",
       "\\end{tabular}\n"
      ],
      "text/markdown": [
       "\n",
       "A data.frame: 6 × 2\n",
       "\n",
       "| <!--/--> | sample &lt;chr&gt; | sample_group &lt;chr&gt; |\n",
       "|---|---|---|\n",
       "| 1 | uz_hras_3dpf_16_5_17 | 3dpf |\n",
       "| 2 | uz_hras_3dpf_16_5_17 | 3dpf |\n",
       "| 3 | uz_hras_3dpf_16_5_17 | 3dpf |\n",
       "| 4 | uz_hras_3dpf_16_5_17 | 3dpf |\n",
       "| 5 | uz_hras_3dpf_16_5_17 | 3dpf |\n",
       "| 6 | uz_hras_3dpf_16_5_17 | 3dpf |\n",
       "\n"
      ],
      "text/plain": [
       "  sample               sample_group\n",
       "1 uz_hras_3dpf_16_5_17 3dpf        \n",
       "2 uz_hras_3dpf_16_5_17 3dpf        \n",
       "3 uz_hras_3dpf_16_5_17 3dpf        \n",
       "4 uz_hras_3dpf_16_5_17 3dpf        \n",
       "5 uz_hras_3dpf_16_5_17 3dpf        \n",
       "6 uz_hras_3dpf_16_5_17 3dpf        "
      ]
     },
     "metadata": {},
     "output_type": "display_data"
    }
   ],
   "source": [
    "metadata<-tab[,c(\"sample\",\"sample_group\")]\n",
    "head(metadata)"
   ]
  },
  {
   "cell_type": "markdown",
   "id": "bc201573",
   "metadata": {
    "lines_to_next_cell": 0
   },
   "source": [
    "Extract out the count matrix (originally, this is in the long format)"
   ]
  },
  {
   "cell_type": "code",
   "execution_count": 4,
   "id": "0a02e636",
   "metadata": {
    "lines_to_next_cell": 0,
    "scrolled": true
   },
   "outputs": [
    {
     "data": {
      "text/html": [
       "<table class=\"dataframe\">\n",
       "<caption>A data.frame: 6 × 3</caption>\n",
       "<thead>\n",
       "\t<tr><th></th><th scope=col>sample</th><th scope=col>gene_id</th><th scope=col>count</th></tr>\n",
       "\t<tr><th></th><th scope=col>&lt;chr&gt;</th><th scope=col>&lt;chr&gt;</th><th scope=col>&lt;int&gt;</th></tr>\n",
       "</thead>\n",
       "<tbody>\n",
       "\t<tr><th scope=row>1</th><td>uz_hras_3dpf_16_5_17</td><td>ENSDARG00000000001</td><td>  10</td></tr>\n",
       "\t<tr><th scope=row>2</th><td>uz_hras_3dpf_16_5_17</td><td>ENSDARG00000000002</td><td>2964</td></tr>\n",
       "\t<tr><th scope=row>3</th><td>uz_hras_3dpf_16_5_17</td><td>ENSDARG00000000018</td><td> 194</td></tr>\n",
       "\t<tr><th scope=row>4</th><td>uz_hras_3dpf_16_5_17</td><td>ENSDARG00000000019</td><td>2191</td></tr>\n",
       "\t<tr><th scope=row>5</th><td>uz_hras_3dpf_16_5_17</td><td>ENSDARG00000000068</td><td>  68</td></tr>\n",
       "\t<tr><th scope=row>6</th><td>uz_hras_3dpf_16_5_17</td><td>ENSDARG00000000069</td><td> 548</td></tr>\n",
       "</tbody>\n",
       "</table>\n"
      ],
      "text/latex": [
       "A data.frame: 6 × 3\n",
       "\\begin{tabular}{r|lll}\n",
       "  & sample & gene\\_id & count\\\\\n",
       "  & <chr> & <chr> & <int>\\\\\n",
       "\\hline\n",
       "\t1 & uz\\_hras\\_3dpf\\_16\\_5\\_17 & ENSDARG00000000001 &   10\\\\\n",
       "\t2 & uz\\_hras\\_3dpf\\_16\\_5\\_17 & ENSDARG00000000002 & 2964\\\\\n",
       "\t3 & uz\\_hras\\_3dpf\\_16\\_5\\_17 & ENSDARG00000000018 &  194\\\\\n",
       "\t4 & uz\\_hras\\_3dpf\\_16\\_5\\_17 & ENSDARG00000000019 & 2191\\\\\n",
       "\t5 & uz\\_hras\\_3dpf\\_16\\_5\\_17 & ENSDARG00000000068 &   68\\\\\n",
       "\t6 & uz\\_hras\\_3dpf\\_16\\_5\\_17 & ENSDARG00000000069 &  548\\\\\n",
       "\\end{tabular}\n"
      ],
      "text/markdown": [
       "\n",
       "A data.frame: 6 × 3\n",
       "\n",
       "| <!--/--> | sample &lt;chr&gt; | gene_id &lt;chr&gt; | count &lt;int&gt; |\n",
       "|---|---|---|---|\n",
       "| 1 | uz_hras_3dpf_16_5_17 | ENSDARG00000000001 |   10 |\n",
       "| 2 | uz_hras_3dpf_16_5_17 | ENSDARG00000000002 | 2964 |\n",
       "| 3 | uz_hras_3dpf_16_5_17 | ENSDARG00000000018 |  194 |\n",
       "| 4 | uz_hras_3dpf_16_5_17 | ENSDARG00000000019 | 2191 |\n",
       "| 5 | uz_hras_3dpf_16_5_17 | ENSDARG00000000068 |   68 |\n",
       "| 6 | uz_hras_3dpf_16_5_17 | ENSDARG00000000069 |  548 |\n",
       "\n"
      ],
      "text/plain": [
       "  sample               gene_id            count\n",
       "1 uz_hras_3dpf_16_5_17 ENSDARG00000000001   10 \n",
       "2 uz_hras_3dpf_16_5_17 ENSDARG00000000002 2964 \n",
       "3 uz_hras_3dpf_16_5_17 ENSDARG00000000018  194 \n",
       "4 uz_hras_3dpf_16_5_17 ENSDARG00000000019 2191 \n",
       "5 uz_hras_3dpf_16_5_17 ENSDARG00000000068   68 \n",
       "6 uz_hras_3dpf_16_5_17 ENSDARG00000000069  548 "
      ]
     },
     "metadata": {},
     "output_type": "display_data"
    }
   ],
   "source": [
    "countlong<-tab[c(\"sample\",\"gene_id\",\"count\")]\n",
    "head(countlong)"
   ]
  },
  {
   "cell_type": "code",
   "execution_count": 5,
   "id": "07a58dd7",
   "metadata": {
    "lines_to_next_cell": 0
   },
   "outputs": [
    {
     "data": {
      "text/html": [
       "<table class=\"dataframe\">\n",
       "<caption>A data.frame: 6 × 9</caption>\n",
       "<thead>\n",
       "\t<tr><th></th><th scope=col>count.uz_hras_3dpf_16_5_17</th><th scope=col>count.uz_hras_3dpf_9_3_17</th><th scope=col>count.uz_hras_3dpf_9_5_17</th><th scope=col>count.uz_hras_5dpf_11_5_17</th><th scope=col>count.uz_hras_5dpf_4_5_17_1</th><th scope=col>count.uz_hras_5dpf_4_5_17_2</th><th scope=col>count.uz_hras_7dpf_13_4_17</th><th scope=col>count.uz_hras_7dpf_20_4_17</th><th scope=col>count.uz_hras_7dpf_27_4_17</th></tr>\n",
       "\t<tr><th></th><th scope=col>&lt;int&gt;</th><th scope=col>&lt;int&gt;</th><th scope=col>&lt;int&gt;</th><th scope=col>&lt;int&gt;</th><th scope=col>&lt;int&gt;</th><th scope=col>&lt;int&gt;</th><th scope=col>&lt;int&gt;</th><th scope=col>&lt;int&gt;</th><th scope=col>&lt;int&gt;</th></tr>\n",
       "</thead>\n",
       "<tbody>\n",
       "\t<tr><th scope=row>ENSDARG00000000001</th><td>  10</td><td>   4</td><td>  20</td><td>  38</td><td>  64</td><td>   2</td><td>1082</td><td>342</td><td>  10</td></tr>\n",
       "\t<tr><th scope=row>ENSDARG00000000002</th><td>2964</td><td>2845</td><td> 411</td><td> 672</td><td> 347</td><td>1532</td><td> 176</td><td> 70</td><td>  12</td></tr>\n",
       "\t<tr><th scope=row>ENSDARG00000000018</th><td> 194</td><td> 251</td><td> 181</td><td> 673</td><td> 686</td><td> 405</td><td> 576</td><td>273</td><td> 378</td></tr>\n",
       "\t<tr><th scope=row>ENSDARG00000000019</th><td>2191</td><td>1657</td><td>2574</td><td>1223</td><td>2208</td><td>2165</td><td>2929</td><td>884</td><td>4223</td></tr>\n",
       "\t<tr><th scope=row>ENSDARG00000000068</th><td>  68</td><td> 303</td><td>2598</td><td> 247</td><td> 258</td><td> 975</td><td> 194</td><td> 48</td><td> 880</td></tr>\n",
       "\t<tr><th scope=row>ENSDARG00000000069</th><td> 548</td><td>1928</td><td>3849</td><td>  68</td><td>  41</td><td> 290</td><td>  59</td><td>504</td><td>  57</td></tr>\n",
       "</tbody>\n",
       "</table>\n"
      ],
      "text/latex": [
       "A data.frame: 6 × 9\n",
       "\\begin{tabular}{r|lllllllll}\n",
       "  & count.uz\\_hras\\_3dpf\\_16\\_5\\_17 & count.uz\\_hras\\_3dpf\\_9\\_3\\_17 & count.uz\\_hras\\_3dpf\\_9\\_5\\_17 & count.uz\\_hras\\_5dpf\\_11\\_5\\_17 & count.uz\\_hras\\_5dpf\\_4\\_5\\_17\\_1 & count.uz\\_hras\\_5dpf\\_4\\_5\\_17\\_2 & count.uz\\_hras\\_7dpf\\_13\\_4\\_17 & count.uz\\_hras\\_7dpf\\_20\\_4\\_17 & count.uz\\_hras\\_7dpf\\_27\\_4\\_17\\\\\n",
       "  & <int> & <int> & <int> & <int> & <int> & <int> & <int> & <int> & <int>\\\\\n",
       "\\hline\n",
       "\tENSDARG00000000001 &   10 &    4 &   20 &   38 &   64 &    2 & 1082 & 342 &   10\\\\\n",
       "\tENSDARG00000000002 & 2964 & 2845 &  411 &  672 &  347 & 1532 &  176 &  70 &   12\\\\\n",
       "\tENSDARG00000000018 &  194 &  251 &  181 &  673 &  686 &  405 &  576 & 273 &  378\\\\\n",
       "\tENSDARG00000000019 & 2191 & 1657 & 2574 & 1223 & 2208 & 2165 & 2929 & 884 & 4223\\\\\n",
       "\tENSDARG00000000068 &   68 &  303 & 2598 &  247 &  258 &  975 &  194 &  48 &  880\\\\\n",
       "\tENSDARG00000000069 &  548 & 1928 & 3849 &   68 &   41 &  290 &   59 & 504 &   57\\\\\n",
       "\\end{tabular}\n"
      ],
      "text/markdown": [
       "\n",
       "A data.frame: 6 × 9\n",
       "\n",
       "| <!--/--> | count.uz_hras_3dpf_16_5_17 &lt;int&gt; | count.uz_hras_3dpf_9_3_17 &lt;int&gt; | count.uz_hras_3dpf_9_5_17 &lt;int&gt; | count.uz_hras_5dpf_11_5_17 &lt;int&gt; | count.uz_hras_5dpf_4_5_17_1 &lt;int&gt; | count.uz_hras_5dpf_4_5_17_2 &lt;int&gt; | count.uz_hras_7dpf_13_4_17 &lt;int&gt; | count.uz_hras_7dpf_20_4_17 &lt;int&gt; | count.uz_hras_7dpf_27_4_17 &lt;int&gt; |\n",
       "|---|---|---|---|---|---|---|---|---|---|\n",
       "| ENSDARG00000000001 |   10 |    4 |   20 |   38 |   64 |    2 | 1082 | 342 |   10 |\n",
       "| ENSDARG00000000002 | 2964 | 2845 |  411 |  672 |  347 | 1532 |  176 |  70 |   12 |\n",
       "| ENSDARG00000000018 |  194 |  251 |  181 |  673 |  686 |  405 |  576 | 273 |  378 |\n",
       "| ENSDARG00000000019 | 2191 | 1657 | 2574 | 1223 | 2208 | 2165 | 2929 | 884 | 4223 |\n",
       "| ENSDARG00000000068 |   68 |  303 | 2598 |  247 |  258 |  975 |  194 |  48 |  880 |\n",
       "| ENSDARG00000000069 |  548 | 1928 | 3849 |   68 |   41 |  290 |   59 | 504 |   57 |\n",
       "\n"
      ],
      "text/plain": [
       "                   count.uz_hras_3dpf_16_5_17 count.uz_hras_3dpf_9_3_17\n",
       "ENSDARG00000000001   10                          4                     \n",
       "ENSDARG00000000002 2964                       2845                     \n",
       "ENSDARG00000000018  194                        251                     \n",
       "ENSDARG00000000019 2191                       1657                     \n",
       "ENSDARG00000000068   68                        303                     \n",
       "ENSDARG00000000069  548                       1928                     \n",
       "                   count.uz_hras_3dpf_9_5_17 count.uz_hras_5dpf_11_5_17\n",
       "ENSDARG00000000001   20                        38                      \n",
       "ENSDARG00000000002  411                       672                      \n",
       "ENSDARG00000000018  181                       673                      \n",
       "ENSDARG00000000019 2574                      1223                      \n",
       "ENSDARG00000000068 2598                       247                      \n",
       "ENSDARG00000000069 3849                        68                      \n",
       "                   count.uz_hras_5dpf_4_5_17_1 count.uz_hras_5dpf_4_5_17_2\n",
       "ENSDARG00000000001   64                           2                       \n",
       "ENSDARG00000000002  347                        1532                       \n",
       "ENSDARG00000000018  686                         405                       \n",
       "ENSDARG00000000019 2208                        2165                       \n",
       "ENSDARG00000000068  258                         975                       \n",
       "ENSDARG00000000069   41                         290                       \n",
       "                   count.uz_hras_7dpf_13_4_17 count.uz_hras_7dpf_20_4_17\n",
       "ENSDARG00000000001 1082                       342                       \n",
       "ENSDARG00000000002  176                        70                       \n",
       "ENSDARG00000000018  576                       273                       \n",
       "ENSDARG00000000019 2929                       884                       \n",
       "ENSDARG00000000068  194                        48                       \n",
       "ENSDARG00000000069   59                       504                       \n",
       "                   count.uz_hras_7dpf_27_4_17\n",
       "ENSDARG00000000001   10                      \n",
       "ENSDARG00000000002   12                      \n",
       "ENSDARG00000000018  378                      \n",
       "ENSDARG00000000019 4223                      \n",
       "ENSDARG00000000068  880                      \n",
       "ENSDARG00000000069   57                      "
      ]
     },
     "metadata": {},
     "output_type": "display_data"
    }
   ],
   "source": [
    "library(stats)\n",
    "countmatrix<-reshape(data=countlong,idvar=\"gene_id\",timevar = \"sample\",direction = \"wide\")\n",
    "rownames(countmatrix)=countmatrix$gene_id\n",
    "countmatrix=subset(countmatrix, select=-c(gene_id))\n",
    "head(countmatrix)"
   ]
  },
  {
   "cell_type": "markdown",
   "id": "ab1e861d",
   "metadata": {
    "lines_to_next_cell": 0
   },
   "source": [
    "bit of data wrangling to clean the colnames "
   ]
  },
  {
   "cell_type": "code",
   "execution_count": 6,
   "id": "665c52a6",
   "metadata": {
    "lines_to_next_cell": 2
   },
   "outputs": [],
   "source": [
    "\n",
    "names(countmatrix) = gsub(pattern = \"count.\", replacement = \"\", x = names(countmatrix))\n",
    "\n"
   ]
  },
  {
   "cell_type": "code",
   "execution_count": 7,
   "id": "488899d8",
   "metadata": {
    "lines_to_next_cell": 2
   },
   "outputs": [
    {
     "data": {
      "text/html": [
       "<table class=\"dataframe\">\n",
       "<caption>A data.frame: 6 × 9</caption>\n",
       "<thead>\n",
       "\t<tr><th></th><th scope=col>uz_hras_3dpf_16_5_17</th><th scope=col>uz_hras_3dpf_9_3_17</th><th scope=col>uz_hras_3dpf_9_5_17</th><th scope=col>uz_hras_5dpf_11_5_17</th><th scope=col>uz_hras_5dpf_4_5_17_1</th><th scope=col>uz_hras_5dpf_4_5_17_2</th><th scope=col>uz_hras_7dpf_13_4_17</th><th scope=col>uz_hras_7dpf_20_4_17</th><th scope=col>uz_hras_7dpf_27_4_17</th></tr>\n",
       "\t<tr><th></th><th scope=col>&lt;int&gt;</th><th scope=col>&lt;int&gt;</th><th scope=col>&lt;int&gt;</th><th scope=col>&lt;int&gt;</th><th scope=col>&lt;int&gt;</th><th scope=col>&lt;int&gt;</th><th scope=col>&lt;int&gt;</th><th scope=col>&lt;int&gt;</th><th scope=col>&lt;int&gt;</th></tr>\n",
       "</thead>\n",
       "<tbody>\n",
       "\t<tr><th scope=row>ENSDARG00000000001</th><td>  10</td><td>   4</td><td>  20</td><td>  38</td><td>  64</td><td>   2</td><td>1082</td><td>342</td><td>  10</td></tr>\n",
       "\t<tr><th scope=row>ENSDARG00000000002</th><td>2964</td><td>2845</td><td> 411</td><td> 672</td><td> 347</td><td>1532</td><td> 176</td><td> 70</td><td>  12</td></tr>\n",
       "\t<tr><th scope=row>ENSDARG00000000018</th><td> 194</td><td> 251</td><td> 181</td><td> 673</td><td> 686</td><td> 405</td><td> 576</td><td>273</td><td> 378</td></tr>\n",
       "\t<tr><th scope=row>ENSDARG00000000019</th><td>2191</td><td>1657</td><td>2574</td><td>1223</td><td>2208</td><td>2165</td><td>2929</td><td>884</td><td>4223</td></tr>\n",
       "\t<tr><th scope=row>ENSDARG00000000068</th><td>  68</td><td> 303</td><td>2598</td><td> 247</td><td> 258</td><td> 975</td><td> 194</td><td> 48</td><td> 880</td></tr>\n",
       "\t<tr><th scope=row>ENSDARG00000000069</th><td> 548</td><td>1928</td><td>3849</td><td>  68</td><td>  41</td><td> 290</td><td>  59</td><td>504</td><td>  57</td></tr>\n",
       "</tbody>\n",
       "</table>\n"
      ],
      "text/latex": [
       "A data.frame: 6 × 9\n",
       "\\begin{tabular}{r|lllllllll}\n",
       "  & uz\\_hras\\_3dpf\\_16\\_5\\_17 & uz\\_hras\\_3dpf\\_9\\_3\\_17 & uz\\_hras\\_3dpf\\_9\\_5\\_17 & uz\\_hras\\_5dpf\\_11\\_5\\_17 & uz\\_hras\\_5dpf\\_4\\_5\\_17\\_1 & uz\\_hras\\_5dpf\\_4\\_5\\_17\\_2 & uz\\_hras\\_7dpf\\_13\\_4\\_17 & uz\\_hras\\_7dpf\\_20\\_4\\_17 & uz\\_hras\\_7dpf\\_27\\_4\\_17\\\\\n",
       "  & <int> & <int> & <int> & <int> & <int> & <int> & <int> & <int> & <int>\\\\\n",
       "\\hline\n",
       "\tENSDARG00000000001 &   10 &    4 &   20 &   38 &   64 &    2 & 1082 & 342 &   10\\\\\n",
       "\tENSDARG00000000002 & 2964 & 2845 &  411 &  672 &  347 & 1532 &  176 &  70 &   12\\\\\n",
       "\tENSDARG00000000018 &  194 &  251 &  181 &  673 &  686 &  405 &  576 & 273 &  378\\\\\n",
       "\tENSDARG00000000019 & 2191 & 1657 & 2574 & 1223 & 2208 & 2165 & 2929 & 884 & 4223\\\\\n",
       "\tENSDARG00000000068 &   68 &  303 & 2598 &  247 &  258 &  975 &  194 &  48 &  880\\\\\n",
       "\tENSDARG00000000069 &  548 & 1928 & 3849 &   68 &   41 &  290 &   59 & 504 &   57\\\\\n",
       "\\end{tabular}\n"
      ],
      "text/markdown": [
       "\n",
       "A data.frame: 6 × 9\n",
       "\n",
       "| <!--/--> | uz_hras_3dpf_16_5_17 &lt;int&gt; | uz_hras_3dpf_9_3_17 &lt;int&gt; | uz_hras_3dpf_9_5_17 &lt;int&gt; | uz_hras_5dpf_11_5_17 &lt;int&gt; | uz_hras_5dpf_4_5_17_1 &lt;int&gt; | uz_hras_5dpf_4_5_17_2 &lt;int&gt; | uz_hras_7dpf_13_4_17 &lt;int&gt; | uz_hras_7dpf_20_4_17 &lt;int&gt; | uz_hras_7dpf_27_4_17 &lt;int&gt; |\n",
       "|---|---|---|---|---|---|---|---|---|---|\n",
       "| ENSDARG00000000001 |   10 |    4 |   20 |   38 |   64 |    2 | 1082 | 342 |   10 |\n",
       "| ENSDARG00000000002 | 2964 | 2845 |  411 |  672 |  347 | 1532 |  176 |  70 |   12 |\n",
       "| ENSDARG00000000018 |  194 |  251 |  181 |  673 |  686 |  405 |  576 | 273 |  378 |\n",
       "| ENSDARG00000000019 | 2191 | 1657 | 2574 | 1223 | 2208 | 2165 | 2929 | 884 | 4223 |\n",
       "| ENSDARG00000000068 |   68 |  303 | 2598 |  247 |  258 |  975 |  194 |  48 |  880 |\n",
       "| ENSDARG00000000069 |  548 | 1928 | 3849 |   68 |   41 |  290 |   59 | 504 |   57 |\n",
       "\n"
      ],
      "text/plain": [
       "                   uz_hras_3dpf_16_5_17 uz_hras_3dpf_9_3_17 uz_hras_3dpf_9_5_17\n",
       "ENSDARG00000000001   10                    4                  20               \n",
       "ENSDARG00000000002 2964                 2845                 411               \n",
       "ENSDARG00000000018  194                  251                 181               \n",
       "ENSDARG00000000019 2191                 1657                2574               \n",
       "ENSDARG00000000068   68                  303                2598               \n",
       "ENSDARG00000000069  548                 1928                3849               \n",
       "                   uz_hras_5dpf_11_5_17 uz_hras_5dpf_4_5_17_1\n",
       "ENSDARG00000000001   38                   64                 \n",
       "ENSDARG00000000002  672                  347                 \n",
       "ENSDARG00000000018  673                  686                 \n",
       "ENSDARG00000000019 1223                 2208                 \n",
       "ENSDARG00000000068  247                  258                 \n",
       "ENSDARG00000000069   68                   41                 \n",
       "                   uz_hras_5dpf_4_5_17_2 uz_hras_7dpf_13_4_17\n",
       "ENSDARG00000000001    2                  1082                \n",
       "ENSDARG00000000002 1532                   176                \n",
       "ENSDARG00000000018  405                   576                \n",
       "ENSDARG00000000019 2165                  2929                \n",
       "ENSDARG00000000068  975                   194                \n",
       "ENSDARG00000000069  290                    59                \n",
       "                   uz_hras_7dpf_20_4_17 uz_hras_7dpf_27_4_17\n",
       "ENSDARG00000000001 342                    10                \n",
       "ENSDARG00000000002  70                    12                \n",
       "ENSDARG00000000018 273                   378                \n",
       "ENSDARG00000000019 884                  4223                \n",
       "ENSDARG00000000068  48                   880                \n",
       "ENSDARG00000000069 504                    57                "
      ]
     },
     "metadata": {},
     "output_type": "display_data"
    }
   ],
   "source": [
    "# for a sanity check\n",
    "head(countmatrix)"
   ]
  },
  {
   "cell_type": "markdown",
   "id": "93f8e835",
   "metadata": {},
   "source": [
    "metadata has alot of replications in rows"
   ]
  },
  {
   "cell_type": "code",
   "execution_count": 8,
   "id": "4d2be2c0",
   "metadata": {
    "lines_to_next_cell": 2
   },
   "outputs": [
    {
     "data": {
      "text/html": [
       "<style>\n",
       ".list-inline {list-style: none; margin:0; padding: 0}\n",
       ".list-inline>li {display: inline-block}\n",
       ".list-inline>li:not(:last-child)::after {content: \"\\00b7\"; padding: 0 .5ex}\n",
       "</style>\n",
       "<ol class=list-inline><li>288513</li><li>2</li></ol>\n"
      ],
      "text/latex": [
       "\\begin{enumerate*}\n",
       "\\item 288513\n",
       "\\item 2\n",
       "\\end{enumerate*}\n"
      ],
      "text/markdown": [
       "1. 288513\n",
       "2. 2\n",
       "\n",
       "\n"
      ],
      "text/plain": [
       "[1] 288513      2"
      ]
     },
     "metadata": {},
     "output_type": "display_data"
    },
    {
     "data": {
      "text/html": [
       "<table class=\"dataframe\">\n",
       "<caption>A data.frame: 6 × 2</caption>\n",
       "<thead>\n",
       "\t<tr><th></th><th scope=col>sample</th><th scope=col>sample_group</th></tr>\n",
       "\t<tr><th></th><th scope=col>&lt;chr&gt;</th><th scope=col>&lt;chr&gt;</th></tr>\n",
       "</thead>\n",
       "<tbody>\n",
       "\t<tr><th scope=row>1</th><td>uz_hras_3dpf_16_5_17</td><td>3dpf</td></tr>\n",
       "\t<tr><th scope=row>2</th><td>uz_hras_3dpf_16_5_17</td><td>3dpf</td></tr>\n",
       "\t<tr><th scope=row>3</th><td>uz_hras_3dpf_16_5_17</td><td>3dpf</td></tr>\n",
       "\t<tr><th scope=row>4</th><td>uz_hras_3dpf_16_5_17</td><td>3dpf</td></tr>\n",
       "\t<tr><th scope=row>5</th><td>uz_hras_3dpf_16_5_17</td><td>3dpf</td></tr>\n",
       "\t<tr><th scope=row>6</th><td>uz_hras_3dpf_16_5_17</td><td>3dpf</td></tr>\n",
       "</tbody>\n",
       "</table>\n"
      ],
      "text/latex": [
       "A data.frame: 6 × 2\n",
       "\\begin{tabular}{r|ll}\n",
       "  & sample & sample\\_group\\\\\n",
       "  & <chr> & <chr>\\\\\n",
       "\\hline\n",
       "\t1 & uz\\_hras\\_3dpf\\_16\\_5\\_17 & 3dpf\\\\\n",
       "\t2 & uz\\_hras\\_3dpf\\_16\\_5\\_17 & 3dpf\\\\\n",
       "\t3 & uz\\_hras\\_3dpf\\_16\\_5\\_17 & 3dpf\\\\\n",
       "\t4 & uz\\_hras\\_3dpf\\_16\\_5\\_17 & 3dpf\\\\\n",
       "\t5 & uz\\_hras\\_3dpf\\_16\\_5\\_17 & 3dpf\\\\\n",
       "\t6 & uz\\_hras\\_3dpf\\_16\\_5\\_17 & 3dpf\\\\\n",
       "\\end{tabular}\n"
      ],
      "text/markdown": [
       "\n",
       "A data.frame: 6 × 2\n",
       "\n",
       "| <!--/--> | sample &lt;chr&gt; | sample_group &lt;chr&gt; |\n",
       "|---|---|---|\n",
       "| 1 | uz_hras_3dpf_16_5_17 | 3dpf |\n",
       "| 2 | uz_hras_3dpf_16_5_17 | 3dpf |\n",
       "| 3 | uz_hras_3dpf_16_5_17 | 3dpf |\n",
       "| 4 | uz_hras_3dpf_16_5_17 | 3dpf |\n",
       "| 5 | uz_hras_3dpf_16_5_17 | 3dpf |\n",
       "| 6 | uz_hras_3dpf_16_5_17 | 3dpf |\n",
       "\n"
      ],
      "text/plain": [
       "  sample               sample_group\n",
       "1 uz_hras_3dpf_16_5_17 3dpf        \n",
       "2 uz_hras_3dpf_16_5_17 3dpf        \n",
       "3 uz_hras_3dpf_16_5_17 3dpf        \n",
       "4 uz_hras_3dpf_16_5_17 3dpf        \n",
       "5 uz_hras_3dpf_16_5_17 3dpf        \n",
       "6 uz_hras_3dpf_16_5_17 3dpf        "
      ]
     },
     "metadata": {},
     "output_type": "display_data"
    }
   ],
   "source": [
    "dim(metadata)\n",
    "head(metadata)"
   ]
  },
  {
   "cell_type": "code",
   "execution_count": 9,
   "id": "7ff34678",
   "metadata": {
    "lines_to_next_cell": 2
   },
   "outputs": [
    {
     "name": "stderr",
     "output_type": "stream",
     "text": [
      "Warning message:\n",
      "\"package 'dplyr' was built under R version 4.2.2\"\n"
     ]
    },
    {
     "data": {
      "text/html": [
       "<table class=\"dataframe\">\n",
       "<caption>A data.frame: 6 × 2</caption>\n",
       "<thead>\n",
       "\t<tr><th></th><th scope=col>sample</th><th scope=col>sample_group</th></tr>\n",
       "\t<tr><th></th><th scope=col>&lt;chr&gt;</th><th scope=col>&lt;fct&gt;</th></tr>\n",
       "</thead>\n",
       "<tbody>\n",
       "\t<tr><th scope=row>1</th><td>uz_hras_3dpf_16_5_17 </td><td>3dpf</td></tr>\n",
       "\t<tr><th scope=row>3</th><td>uz_hras_3dpf_9_3_17  </td><td>3dpf</td></tr>\n",
       "\t<tr><th scope=row>5</th><td>uz_hras_3dpf_9_5_17  </td><td>3dpf</td></tr>\n",
       "\t<tr><th scope=row>7</th><td>uz_hras_5dpf_11_5_17 </td><td>5pdf</td></tr>\n",
       "\t<tr><th scope=row>9</th><td>uz_hras_5dpf_4_5_17_1</td><td>5pdf</td></tr>\n",
       "\t<tr><th scope=row>11</th><td>uz_hras_5dpf_4_5_17_2</td><td>5pdf</td></tr>\n",
       "</tbody>\n",
       "</table>\n"
      ],
      "text/latex": [
       "A data.frame: 6 × 2\n",
       "\\begin{tabular}{r|ll}\n",
       "  & sample & sample\\_group\\\\\n",
       "  & <chr> & <fct>\\\\\n",
       "\\hline\n",
       "\t1 & uz\\_hras\\_3dpf\\_16\\_5\\_17  & 3dpf\\\\\n",
       "\t3 & uz\\_hras\\_3dpf\\_9\\_3\\_17   & 3dpf\\\\\n",
       "\t5 & uz\\_hras\\_3dpf\\_9\\_5\\_17   & 3dpf\\\\\n",
       "\t7 & uz\\_hras\\_5dpf\\_11\\_5\\_17  & 5pdf\\\\\n",
       "\t9 & uz\\_hras\\_5dpf\\_4\\_5\\_17\\_1 & 5pdf\\\\\n",
       "\t11 & uz\\_hras\\_5dpf\\_4\\_5\\_17\\_2 & 5pdf\\\\\n",
       "\\end{tabular}\n"
      ],
      "text/markdown": [
       "\n",
       "A data.frame: 6 × 2\n",
       "\n",
       "| <!--/--> | sample &lt;chr&gt; | sample_group &lt;fct&gt; |\n",
       "|---|---|---|\n",
       "| 1 | uz_hras_3dpf_16_5_17  | 3dpf |\n",
       "| 3 | uz_hras_3dpf_9_3_17   | 3dpf |\n",
       "| 5 | uz_hras_3dpf_9_5_17   | 3dpf |\n",
       "| 7 | uz_hras_5dpf_11_5_17  | 5pdf |\n",
       "| 9 | uz_hras_5dpf_4_5_17_1 | 5pdf |\n",
       "| 11 | uz_hras_5dpf_4_5_17_2 | 5pdf |\n",
       "\n"
      ],
      "text/plain": [
       "   sample                sample_group\n",
       "1  uz_hras_3dpf_16_5_17  3dpf        \n",
       "3  uz_hras_3dpf_9_3_17   3dpf        \n",
       "5  uz_hras_3dpf_9_5_17   3dpf        \n",
       "7  uz_hras_5dpf_11_5_17  5pdf        \n",
       "9  uz_hras_5dpf_4_5_17_1 5pdf        \n",
       "11 uz_hras_5dpf_4_5_17_2 5pdf        "
      ]
     },
     "metadata": {},
     "output_type": "display_data"
    }
   ],
   "source": [
    "suppressPackageStartupMessages(library(dplyr))\n",
    "metadata<-metadata %>% distinct()\n",
    "metadata <- metadata[-which(metadata$sample_group == \"\"), ]  #removing those samples not categorised as a sample group\n",
    "\n",
    "metadata$sample_group<-factor(metadata$sample_group)\n",
    "\n",
    "head(metadata)"
   ]
  },
  {
   "cell_type": "markdown",
   "id": "0ff7b494",
   "metadata": {
    "lines_to_next_cell": 0
   },
   "source": [
    "time to create the summarized expt object.\n",
    "\n",
    "first ensure that countmatrix same order as metadata"
   ]
  },
  {
   "cell_type": "code",
   "execution_count": 10,
   "id": "a1c7b66f",
   "metadata": {},
   "outputs": [
    {
     "name": "stderr",
     "output_type": "stream",
     "text": [
      "Warning message:\n",
      "\"package 'matrixStats' was built under R version 4.2.2\"\n"
     ]
    }
   ],
   "source": [
    "suppressPackageStartupMessages(library(DESeq2))"
   ]
  },
  {
   "cell_type": "code",
   "execution_count": 11,
   "id": "b5dba5d7",
   "metadata": {},
   "outputs": [
    {
     "data": {
      "text/html": [
       "TRUE"
      ],
      "text/latex": [
       "TRUE"
      ],
      "text/markdown": [
       "TRUE"
      ],
      "text/plain": [
       "[1] TRUE"
      ]
     },
     "metadata": {},
     "output_type": "display_data"
    }
   ],
   "source": [
    "all(metadata$sample == colnames(countmatrix))"
   ]
  },
  {
   "cell_type": "code",
   "execution_count": 12,
   "id": "66cd9cf0",
   "metadata": {},
   "outputs": [],
   "source": [
    "#merge countmatrix with "
   ]
  },
  {
   "cell_type": "code",
   "execution_count": 13,
   "id": "6711a6d5",
   "metadata": {},
   "outputs": [],
   "source": [
    "dds <- DESeqDataSetFromMatrix(countData = countmatrix,\n",
    "                              colData = metadata,\n",
    "                              design = ~ sample_group)"
   ]
  },
  {
   "cell_type": "markdown",
   "id": "7cb397d8",
   "metadata": {},
   "source": [
    "sample group has 3 replicate.\n",
    "we filter at least total 10 reads across 3 samples"
   ]
  },
  {
   "cell_type": "code",
   "execution_count": 14,
   "id": "6222e289",
   "metadata": {},
   "outputs": [],
   "source": [
    "keep <- rowSums(counts(dds) >= 10) >= 3\n",
    "dds <- dds[keep,]"
   ]
  },
  {
   "cell_type": "markdown",
   "id": "8ae20629",
   "metadata": {
    "lines_to_next_cell": 0
   },
   "source": [
    "3dpf is my reference group for contrast"
   ]
  },
  {
   "cell_type": "code",
   "execution_count": 15,
   "id": "02b70c69",
   "metadata": {},
   "outputs": [],
   "source": [
    "dds$sample_group <- relevel(dds$sample_group, ref = \"3dpf\")"
   ]
  },
  {
   "cell_type": "markdown",
   "id": "c075f35b",
   "metadata": {},
   "source": [
    "To get the genes that change at any time point "
   ]
  },
  {
   "cell_type": "code",
   "execution_count": null,
   "id": "ec88ee60",
   "metadata": {},
   "outputs": [
    {
     "name": "stderr",
     "output_type": "stream",
     "text": [
      "estimating size factors\n",
      "\n",
      "estimating dispersions\n",
      "\n",
      "gene-wise dispersion estimates\n",
      "\n",
      "mean-dispersion relationship\n",
      "\n"
     ]
    }
   ],
   "source": [
    "design(dds) <- ~sample_group\n",
    "dds <- DESeq(dds, test=\"LRT\", reduced=~1)"
   ]
  },
  {
   "cell_type": "code",
   "execution_count": null,
   "id": "a66429a0",
   "metadata": {},
   "outputs": [],
   "source": [
    "LRTres <- results(dds, alpha = 0.05)\n",
    "resultsNames(dds)\n",
    "head(LRTres)"
   ]
  },
  {
   "cell_type": "markdown",
   "id": "02148d75",
   "metadata": {},
   "source": [
    "library(AnnotationHub)\n",
    "library(ensembldb)\n",
    "#Connect to AnnotationHub\n",
    "ah <- AnnotationHub()\n",
    "\n",
    "#Access the Ensembl database for organism\n",
    "ahDb <- query(ah, \n",
    "              pattern = c(\"Danio rerio\", \"EnsDb\"), \n",
    "              ignore.case = TRUE)\n",
    "\n",
    "\n",
    "\n",
    "#Acquire the latest annotation files\n",
    "id <- ahDb %>%\n",
    "        mcols() %>%\n",
    "        rownames() %>%\n",
    "        tail(n = 1)\n",
    "\n",
    "#Download the appropriate Ensembldb database\n",
    "edb <- ah[[id]]\n",
    "\n",
    "#Extract gene-level information from database\n",
    "annotations <- genes(edb, \n",
    "                     return.type = \"data.frame\")\n",
    "\n",
    "#Select annotations of interest\n",
    "annotations <- annotations %>%\n",
    "        dplyr::select(gene_id, gene_name, seq_name, gene_biotype, description)\n",
    "saveRDS(annotations,file=\"ZFannotaions_ensdb.rds\")"
   ]
  },
  {
   "cell_type": "markdown",
   "id": "67e50b4e",
   "metadata": {
    "lines_to_next_cell": 0
   },
   "source": [
    "creating a gene list containg ensbl id and gene name\n",
    "\n",
    "#this is the ZF annotation extracted from Annoation hub\n",
    "#ZFannotaions_ensdb <- readRDS(\"C:/Users/Kei Onn/Downloads/ZFannotaions_ensdb.rds\")\n",
    "\n",
    "we extract the genes name for genes in count matrix"
   ]
  },
  {
   "cell_type": "code",
   "execution_count": null,
   "id": "9919f53c",
   "metadata": {},
   "outputs": [],
   "source": [
    "annotations<-readRDS(\"C:/Users/Kei Onn/Downloads/ZFannotaions_ensdb.rds\")\n",
    "head(annotations)\n",
    "dim(annotations)"
   ]
  },
  {
   "cell_type": "code",
   "execution_count": null,
   "id": "b28d3ea8",
   "metadata": {
    "lines_to_next_cell": 2,
    "scrolled": true
   },
   "outputs": [],
   "source": [
    "annotations<- annotations[annotations$gene_id%in%rownames(rowData(dds)),]\n",
    "dim(annotations)"
   ]
  },
  {
   "cell_type": "code",
   "execution_count": null,
   "id": "4eb2e7b0",
   "metadata": {},
   "outputs": [],
   "source": [
    "mcols(dds) <- DataFrame(mcols(dds), annotations) #added annotations to my dds obj"
   ]
  },
  {
   "cell_type": "code",
   "execution_count": null,
   "id": "8ddf6602",
   "metadata": {},
   "outputs": [],
   "source": [
    "head(rowData(dds))"
   ]
  },
  {
   "cell_type": "markdown",
   "id": "1dac31bc",
   "metadata": {
    "lines_to_next_cell": 0
   },
   "source": [
    "investigating patterns across time groups\n",
    "aka the sample_groups\n",
    "\n",
    "vst transformation on count matrix\n",
    "next subsetting the vst transformed count matrix to only include\n",
    "sig from the LRT"
   ]
  },
  {
   "cell_type": "code",
   "execution_count": null,
   "id": "e79965c1",
   "metadata": {},
   "outputs": [],
   "source": [
    "suppressPackageStartupMessages(library(DEGreport))"
   ]
  },
  {
   "cell_type": "code",
   "execution_count": null,
   "id": "1f0e3d87",
   "metadata": {},
   "outputs": [],
   "source": [
    "head(LRTres)"
   ]
  },
  {
   "cell_type": "code",
   "execution_count": null,
   "id": "2f690c10",
   "metadata": {},
   "outputs": [],
   "source": [
    "vst_LRTdds<-vst(dds, blind=T)\n",
    "head(vst_LRTdds)"
   ]
  },
  {
   "cell_type": "markdown",
   "id": "7c3b755b",
   "metadata": {},
   "source": [
    "we need to filter for significant genes before performing degPatterns()"
   ]
  },
  {
   "cell_type": "code",
   "execution_count": null,
   "id": "d0d25038",
   "metadata": {},
   "outputs": [],
   "source": [
    "df_LRTres<-data.frame(LRTres@listData) %>% filter(padj<0.05) \n",
    "ma<-vst_LRTdds[rownames(assay(vst_LRTdds))%in%rownames(df_LRTres),]"
   ]
  },
  {
   "cell_type": "code",
   "execution_count": null,
   "id": "ea2484ca",
   "metadata": {},
   "outputs": [],
   "source": [
    "ma<-assay(ma)\n",
    "clusterpatternplot<-degPatterns(\n",
    "    ma = ma,\n",
    "    metadata = colData(dds),\n",
    "    time = \"sample_group\",\n",
    "    minc = 50)#performs pairwise correlation between sig genes derived from LRT test and group them into clusters\n",
    "    "
   ]
  },
  {
   "cell_type": "code",
   "execution_count": null,
   "id": "6810ba73",
   "metadata": {},
   "outputs": [],
   "source": [
    "clusterpatternplot "
   ]
  },
  {
   "cell_type": "code",
   "execution_count": null,
   "id": "37f61eb5",
   "metadata": {},
   "outputs": [],
   "source": [
    "DEGclusters<-clusterpatternplot[[\"df\"]] # extracting the genes which belong to each cluster\n",
    "head(DEGclusters)"
   ]
  },
  {
   "cell_type": "markdown",
   "id": "1913514b",
   "metadata": {
    "lines_to_next_cell": 0
   },
   "source": [
    "We see that cluster 1 and 2 are age-dependant changes in the mg\n",
    "that are linear; therefore we can select them here "
   ]
  },
  {
   "cell_type": "code",
   "execution_count": null,
   "id": "f9507bab",
   "metadata": {},
   "outputs": [],
   "source": [
    "cluster1<-subset(DEGclusters, cluster == 1, select = \"genes\")\n",
    "cluster2<-subset(DEGclusters, cluster == 2, select = \"genes\")"
   ]
  }
 ],
 "metadata": {
  "jupytext": {
   "cell_metadata_filter": "tags,name,-all",
   "main_language": "R",
   "notebook_metadata_filter": "-all"
  },
  "kernelspec": {
   "display_name": "R",
   "language": "R",
   "name": "ir"
  },
  "language_info": {
   "codemirror_mode": "r",
   "file_extension": ".r",
   "mimetype": "text/x-r-source",
   "name": "R",
   "pygments_lexer": "r",
   "version": "4.2.1"
  }
 },
 "nbformat": 4,
 "nbformat_minor": 5
}
